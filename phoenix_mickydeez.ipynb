{
  "nbformat": 4,
  "nbformat_minor": 0,
  "metadata": {
    "colab": {
      "provenance": []
    },
    "kernelspec": {
      "name": "python3",
      "display_name": "Python 3"
    },
    "language_info": {
      "name": "python"
    }
  },
  "cells": [
    {
      "cell_type": "code",
      "source": [
        "import folium\n",
        "\n",
        "# Define the list of coordinates and addresses including the new entry\n",
        "locations = [\n",
        "    (\"1060 S Watson Rd, Buckeye, AZ 85326\", 33.43701649845667, -112.5598500928973),\n",
        "    (\"16275 W Yuma Rd, Goodyear, AZ 85338\", 33.43483211334602, -112.40876683468385),\n",
        "    (\"1100 N Estrella Pkwy, Goodyear, AZ 85338\", 33.459475970159595, -112.39533466166834),\n",
        "    (\"13870 W McDowell Rd, Goodyear, AZ 85395\", 33.46504642086187, -112.35754899050389),\n",
        "    (\"13055 W Rancho Santa Fe Blvd, Avondale, AZ 85392\", 33.45900721740595, -112.33811684817552),\n",
        "    (\"13018 W Indian School Rd, Litchfield Park, AZ 85340\", 33.49437655838839, -112.34029063068928),\n",
        "    (\"14111 N Prasada Gateway Ave, Surprise, AZ 85388\", 33.61237509254223, -112.42081072883572),\n",
        "    (\"12900 W Thunderbird Rd, El Mirage, AZ 85335\", 33.6105740899853, -112.33655393097652),\n",
        "    (\"13770 W Bell Rd, Surprise, AZ 85374\", 33.64345335462557, -112.35782109049676),\n",
        "    (\"13933 N Litchfield Rd, Surprise, AZ 85374\", 33.610419845506875, -112.35880570399084),\n",
        "    (\"10040 W Bell Rd, Sun City, AZ 85373\", 33.6384348181833, -112.27695576166121),\n",
        "    (\"24710 N Lake Pleasant Pkwy, Peoria, AZ 85383\", 33.708026573041984, -112.27318890583699),\n",
        "    (\"10785 W Olive Ave, Peoria, AZ 85345\", 33.56521573229153, -112.29155741933562),\n",
        "    (\"2611 N 75th Ave, Phoenix, AZ 85035\", 33.47682127534978, -112.22020311748902),\n",
        "    (\"5050 W Indian School Rd, Phoenix, AZ 85031\", 33.495523026885266, -112.16712957515969),\n",
        "    (\"3434 W Union Hills Dr, Phoenix, AZ 85027\", 33.65507633444541, -112.13352556166049),\n",
        "    (\"3501 W Bethany Home Rd, Phoenix, AZ 85019\", 33.52357192918068, -112.1345917039944),\n",
        "    (\"2845 W Thunderbird Rd, Phoenix, AZ 85053\", 33.61033710292728, -112.12022787515521),\n",
        "    (\"2667 W Camelback Rd, Phoenix, AZ 85017\", 33.509161544999, -112.11672750399488),\n",
        "    (\"2305 W Bethany Home Rd, Phoenix, AZ 85015\", 33.52378797336735, -112.10857031748719),\n",
        "    (\"2427 W Thomas Rd, Phoenix, AZ 85015\", 33.48051369766456, -112.1110053058463),\n",
        "    (\"1844 W Baseline Rd, Phoenix, AZ 85041\", 33.37825541423906, -112.09873170400017),\n",
        "    (\"926 E Indian School Rd, Phoenix, AZ 85014\", 33.49530946286839, -112.0618062328313),\n",
        "    (\"2447 E Bell Rd, Phoenix, AZ 85032\", 33.64023498709996, -112.0289886904968),\n",
        "    (\"125 N 24th St, Phoenix, AZ 85034\", 33.45025410170793, -112.02971291749017),\n",
        "    (\"2430 E Baseline Rd, Phoenix, AZ 85040\", 33.37850462840631, -112.02914223283595),\n",
        "    (\"10230 N 32nd St, Phoenix, AZ 85028\", 33.57997885004582, -112.01345907515632),\n",
        "    (\"Phx Term 4 Conc N4, Phoenix, AZ 85034\", 33.43714029835442, -111.99452094632647),\n",
        "    (\"5120 W Baseline Rd, Laveen Village, AZ 85339\", 33.37870841977962, -112.16885120400022),\n",
        "    (\"1255 E Chandler Blvd, Phoenix, AZ 85048\", 33.3057737587977, -112.05613129731655),\n",
        "    (\"Active Buckeye Community\", 33.42055942220795, -112.54242917378747)  # New entry\n",
        "]\n",
        "\n",
        "# Create a base map centered on Phoenix\n",
        "map_center = [33.4484, -112.0740]\n",
        "my_map = folium.Map(location=map_center, zoom_start=11)\n",
        "\n",
        "# Function to create a custom icon using an image\n",
        "def create_custom_icon(image_path, icon_size=(30, 30)):\n",
        "    return folium.features.CustomIcon(\n",
        "        icon_image=image_path,\n",
        "        icon_size=icon_size\n",
        "    )\n",
        "\n",
        "# Add custom markers with image icons for each location\n",
        "for address, lat, lon in locations[:-1]:  # Loop through all but the last location\n",
        "    folium.Marker(\n",
        "        location=[lat, lon],\n",
        "        icon=create_custom_icon('mcdonaldslogo.png'),  # Use the original icon for existing locations\n",
        "        popup=address\n",
        "    ).add_to(my_map)\n",
        "\n",
        "# Add marker for 'Active Buckeye Community' with the new icon\n",
        "folium.Marker(\n",
        "    location=[locations[-1][1], locations[-1][2]],  # Coordinates for the last location\n",
        "    icon=create_custom_icon('abclogo.png'),  # Use the new icon for the new location\n",
        "    popup=locations[-1][0]  # Address for the last location\n",
        ").add_to(my_map)\n",
        "\n",
        "# Save the map as an HTML file\n",
        "my_map.save('index.html')"
      ],
      "metadata": {
        "id": "SN2H2vWW_jUb"
      },
      "execution_count": 7,
      "outputs": []
    }
  ]
}